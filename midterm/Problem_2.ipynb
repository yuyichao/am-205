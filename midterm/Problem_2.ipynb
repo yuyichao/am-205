{
 "cells": [
  {
   "cell_type": "markdown",
   "metadata": {},
   "source": [
    "# A numerical scheme for the transport equation"
   ]
  },
  {
   "cell_type": "markdown",
   "metadata": {},
   "source": [
    "1. Derivative\n",
    "\n",
    "    $$\n",
    "    f(x + \\Delta x) = f(x) + f'(x)\\Delta x + \\frac{f''(x)}2\\Delta x^2 + \\mathcal{O}(\\Delta x^3)\\\\\n",
    "    f_{diff}(x; \\Delta x, \\alpha) = \\frac{(\\alpha - 1)f(x - \\Delta x) + (1-2\\alpha)f(x) + \\alpha f(x + \\Delta x)}{\\Delta x}\\\\\n",
    "     = \\frac{f'(x)\\Delta x + (2\\alpha - 1)f''(x)\\Delta x^2/2}{\\Delta x} + \\mathcal{O}(\\Delta x^2)\\\\\n",
    "     = f'(x) + (\\alpha - \\frac12)f''(x)\\Delta x + \\mathcal{O}(\\Delta x^2)\n",
    "    $$\n",
    "\n",
    "Therefore the error is of $\\mathcal{O}(\\Delta x)$ (first order) for any $\\alpha$ and is second order when $\\alpha$ is $\\dfrac12$."
   ]
  }
 ],
 "metadata": {
  "kernelspec": {
   "display_name": "Julia 0.5.0-dev",
   "language": "julia",
   "name": "julia-0.5"
  },
  "language_info": {
   "file_extension": ".jl",
   "mimetype": "application/julia",
   "name": "julia",
   "version": "0.5.0"
  }
 },
 "nbformat": 4,
 "nbformat_minor": 0
}
