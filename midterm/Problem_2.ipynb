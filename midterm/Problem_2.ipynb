{
 "cells": [
  {
   "cell_type": "markdown",
   "metadata": {},
   "source": [
    "# A numerical scheme for the transport equation"
   ]
  },
  {
   "cell_type": "markdown",
   "metadata": {},
   "source": [
    "1. Derivative\n",
    "\n",
    "    $$\n",
    "    f(x + \\Delta x) = f(x) + f'(x)\\Delta x + \\frac{f''(x)}2\\Delta x^2 + \\mathcal{O}(\\Delta x^3)\\\\\n",
    "    f_{diff}(x; \\Delta x, \\alpha) = \\frac{(\\alpha - 1)f(x - \\Delta x) + (1-2\\alpha)f(x) + \\alpha f(x + \\Delta x)}{\\Delta x}\\\\\n",
    "     = \\frac{f'(x)\\Delta x + (2\\alpha - 1)f''(x)\\Delta x^2/2}{\\Delta x} + \\mathcal{O}(\\Delta x^2)\\\\\n",
    "     = f'(x) + (\\alpha - \\frac12)f''(x)\\Delta x + \\mathcal{O}(\\Delta x^2)\n",
    "    $$\n",
    "\n",
    "    Therefore the error is of $\\mathcal{O}(\\Delta x)$ (first order) for any $\\alpha$ and is second order when $\\alpha$ is $\\dfrac12$.\n",
    "\n",
    "2. Transport equation\n",
    "\n",
    "    For the solution of the given form,\n",
    "\n",
    "    $$\n",
    "    \\lambda - 1 + \\nu((\\alpha - 1)e^{-i\\omega}+(1 - 2\\alpha)+\\alpha e^{i\\omega}) = 0\\\\\n",
    "    \\lambda = 1 - \\nu((\\alpha - 1)e^{-i\\omega}+(1 - 2\\alpha)+\\alpha e^{i\\omega})\\\\\n",
    "    \\lambda = 1 - \\nu(2\\alpha - 1)(\\cos\\omega-1) - i\\nu\\sin\\omega\\\\\n",
    "    |\\lambda|^2 = (1 - \\nu(2\\alpha - 1)Q)^2 - \\nu^2Q(Q+2)\\\\\n",
    "    |\\lambda|^2 = 1 - 2\\nu(2\\alpha - 1)Q + \\nu^2(2\\alpha - 1)^2Q^2 - \\nu^2Q^2 - 2\\nu^2Q\\\\\n",
    "    |\\lambda|^2 = 1 - 2\\nu(2\\alpha - 1 + \\nu)Q + 4\\nu^2\\alpha(\\alpha - 1)Q^2\n",
    "    $$\n",
    "\n",
    "    Since $|\\lambda(Q=0)|^2=1$, in order for $|\\lambda|^2$ to be no larger than $1$\n",
    "    over $[-2, 0]$ it is required and sufficient to have $\\left.\\dfrac{d|\\lambda|^2}{dQ}\\right|_{Q=0}\\geqslant0$ and $|\\lambda(Q=-2)|^2\\leqslant1$. Therefore\n",
    "\n",
    "    $$\n",
    "    - 2\\nu(2\\alpha - 1 + \\nu) \\geqslant 0\\\\\n",
    "    1 + 4\\nu(2\\alpha - 1 + \\nu) + 16\\nu^2\\alpha(\\alpha - 1) \\leqslant 1\\\\\n",
    "    \\alpha \\leqslant \\frac{1 - \\nu}2\\\\\n",
    "    4\\nu\\alpha^2 + 2(1 - 2\\nu)\\alpha + \\nu - 1 \\leqslant 0\\\\\n",
    "    (2\\alpha - 1)(2\\nu\\alpha - \\nu + 1) \\leqslant 0\\\\\n",
    "    \\alpha \\geqslant \\frac{\\nu - 1}{2\\nu}\n",
    "    $$\n",
    "\n",
    "    Therefore,\n",
    "\n",
    "    $$\n",
    "    \\alpha_{lo} = \\frac{\\nu - 1}{2\\nu} = -4.5\\\\\n",
    "    \\alpha_{hi} = \\frac{1 - \\nu}{2} = 0.45\n",
    "    $$\n",
    "\n",
    "    In the derivation we used $\\nu > 0$ and the last step for the lower bound uses\n",
    "    the result of the upper bound."
   ]
  }
 ],
 "metadata": {
  "kernelspec": {
   "display_name": "Julia 0.5.0-dev",
   "language": "julia",
   "name": "julia-0.5"
  },
  "language_info": {
   "file_extension": ".jl",
   "mimetype": "application/julia",
   "name": "julia",
   "version": "0.5.0"
  }
 },
 "nbformat": 4,
 "nbformat_minor": 0
}
