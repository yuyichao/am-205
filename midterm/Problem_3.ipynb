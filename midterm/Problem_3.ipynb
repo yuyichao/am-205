{
 "cells": [
  {
   "cell_type": "markdown",
   "metadata": {},
   "source": [
    "# Fitting a matrix transformation"
   ]
  },
  {
   "cell_type": "markdown",
   "metadata": {},
   "source": [
    "For each point, we have (up to measurement error),\n",
    "\n",
    "$$\n",
    "\\begin{pmatrix}\n",
    "  x_1&x_2&1&0&0&0\\\\\n",
    "  0&0&0&x_1&x_2&1\n",
    "\\end{pmatrix}\\begin{pmatrix}\n",
    "  F_{11}\\\\\n",
    "  F_{12}\\\\\n",
    "  c_1\\\\\n",
    "  F_{21}\\\\\n",
    "  F_{22}\\\\\n",
    "  c_2\n",
    "\\end{pmatrix}=\\begin{pmatrix}\n",
    "  r_1\\\\\n",
    "  r_2\n",
    "\\end{pmatrix}\n",
    "$$\n",
    "\n",
    "vcat all the points gives the standard matrix form of least squares problem. The\n",
    "adapter between the two problems is implemented as `fit_F` in [`lsq.jl`](lsq.jl)"
   ]
  },
  {
   "cell_type": "markdown",
   "metadata": {},
   "source": [
    "1. See [$F_a$](#$F_a$) below\n",
    "\n",
    "2. See [$F_b$](#$F_b$) and the [difference](#Difference) below.\n",
    "\n",
    "3. See `fit_Fc` in [`lsq.jl`](lsq.jl) for the code used for this problem. $F_c$ and\n",
    "    $E$ are shown [below](#$F_c$-and-$E$). The other expression for $E$ is the\n",
    "    smallest two singular values of $A$ (See the assertion for $E1 \\approx E2$ in\n",
    "    `fit_Fc`).\n",
    "\n",
    "    The $E$ constructed this way is guaranteed to be (one of) the smallest since the\n",
    "    hcat matrix ($A'$) is garenteed to be the closest (Frobenius norm) amount rank\n",
    "    $\\leqslant2$ matrices by construct. And the hcat of $x''$ and $r''$ cannot have\n",
    "    a rank larger than $2$.\n",
    "\n",
    "4. See the value of differences [below](#Difference)"
   ]
  },
  {
   "cell_type": "code",
   "execution_count": 1,
   "metadata": {
    "collapsed": false
   },
   "outputs": [
    {
     "data": {
      "text/plain": [
       "fit_Fc (generic function with 1 method)"
      ]
     },
     "execution_count": 1,
     "metadata": {},
     "output_type": "execute_result"
    }
   ],
   "source": [
    "include(\"lsq.jl\")"
   ]
  },
  {
   "cell_type": "code",
   "execution_count": 2,
   "metadata": {
    "collapsed": false
   },
   "outputs": [],
   "source": [
    "data = readdlm(\"beads.txt\", ' ');\n",
    "x = sub(data, (:, 1:2));\n",
    "r = sub(data, (:, 3:4));"
   ]
  },
  {
   "cell_type": "markdown",
   "metadata": {},
   "source": [
    "#### $F_a$"
   ]
  },
  {
   "cell_type": "code",
   "execution_count": 3,
   "metadata": {
    "collapsed": false
   },
   "outputs": [
    {
     "data": {
      "text/plain": [
       "2x2 Array{Float64,2}:\n",
       "  1.47806   0.979544\n",
       " -0.950321  1.9868  "
      ]
     },
     "execution_count": 3,
     "metadata": {},
     "output_type": "execute_result"
    }
   ],
   "source": [
    "F_a, c_a = fit_F(x, r)\n",
    "F_a"
   ]
  },
  {
   "cell_type": "markdown",
   "metadata": {},
   "source": [
    "#### $F_b$"
   ]
  },
  {
   "cell_type": "code",
   "execution_count": 4,
   "metadata": {
    "collapsed": false
   },
   "outputs": [
    {
     "data": {
      "text/plain": [
       "2x2 Array{Float64,2}:\n",
       " 0.502728  -0.249489\n",
       " 0.239929   0.376422"
      ]
     },
     "execution_count": 4,
     "metadata": {},
     "output_type": "execute_result"
    }
   ],
   "source": [
    "F_b, c_b = fit_F(r, x)\n",
    "F_b"
   ]
  },
  {
   "cell_type": "markdown",
   "metadata": {},
   "source": [
    "#### Difference"
   ]
  },
  {
   "cell_type": "code",
   "execution_count": 5,
   "metadata": {
    "collapsed": false
   },
   "outputs": [
    {
     "data": {
      "text/plain": [
       "2x2 Array{Float64,2}:\n",
       " -0.0330822  -0.0220283\n",
       "  0.012871   -0.0313974"
      ]
     },
     "execution_count": 5,
     "metadata": {},
     "output_type": "execute_result"
    }
   ],
   "source": [
    "F_a - inv(F_b)"
   ]
  },
  {
   "cell_type": "markdown",
   "metadata": {},
   "source": [
    "#### $F_c$ and $E$"
   ]
  },
  {
   "cell_type": "code",
   "execution_count": 6,
   "metadata": {
    "collapsed": false
   },
   "outputs": [
    {
     "data": {
      "text/plain": [
       "(\n",
       "2x2 Array{Float64,2}:\n",
       "  1.50287   0.996976\n",
       " -0.960257  2.01331 ,\n",
       "\n",
       "0.06434391891471973)"
      ]
     },
     "execution_count": 6,
     "metadata": {},
     "output_type": "execute_result"
    }
   ],
   "source": [
    "F_c, E1 = fit_Fc(data)"
   ]
  },
  {
   "cell_type": "code",
   "execution_count": 7,
   "metadata": {
    "collapsed": false
   },
   "outputs": [
    {
     "data": {
      "text/plain": [
       "frobenius_diff (generic function with 1 method)"
      ]
     },
     "execution_count": 7,
     "metadata": {},
     "output_type": "execute_result"
    }
   ],
   "source": [
    "# Somehow I didn't find a function for Frobenius norm\n",
    "function frobenius_diff(F1, F2)\n",
    "    @assert size(F1) == size(F2)\n",
    "    diff2 = zero(eltype(F1))\n",
    "    @inbounds @simd for i in eachindex(F1)\n",
    "        diff2 += abs2(F1[i] - F2[i])\n",
    "    end\n",
    "    diff2\n",
    "end"
   ]
  },
  {
   "cell_type": "code",
   "execution_count": 8,
   "metadata": {
    "collapsed": false
   },
   "outputs": [
    {
     "data": {
      "text/plain": [
       "2x2 Array{Float64,2}:\n",
       "  1.5  1.0\n",
       " -1.0  2.0"
      ]
     },
     "execution_count": 8,
     "metadata": {},
     "output_type": "execute_result"
    }
   ],
   "source": [
    "F_expect = [1.5 1\n",
    "            -1 2]"
   ]
  },
  {
   "cell_type": "markdown",
   "metadata": {},
   "source": [
    "#### Difference"
   ]
  },
  {
   "cell_type": "code",
   "execution_count": 9,
   "metadata": {
    "collapsed": false
   },
   "outputs": [
    {
     "name": "stdout",
     "output_type": "stream",
     "text": [
      "frobenius_diff(F_expect,F_a) = 0.0035420515657479668\n",
      "frobenius_diff(F_expect,inv(F_b)) = 0.0018126172734959033\n",
      "frobenius_diff(F_expect,F_c) = 0.001774043948842957\n"
     ]
    }
   ],
   "source": [
    "@show frobenius_diff(F_expect, F_a)\n",
    "@show frobenius_diff(F_expect, inv(F_b))\n",
    "@show frobenius_diff(F_expect, F_c);"
   ]
  }
 ],
 "metadata": {
  "kernelspec": {
   "display_name": "Julia 0.5.0-dev",
   "language": "julia",
   "name": "julia-0.5"
  },
  "language_info": {
   "file_extension": ".jl",
   "mimetype": "application/julia",
   "name": "julia",
   "version": "0.5.0"
  }
 },
 "nbformat": 4,
 "nbformat_minor": 0
}
