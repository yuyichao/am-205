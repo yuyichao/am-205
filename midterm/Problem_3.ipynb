{
 "cells": [
  {
   "cell_type": "markdown",
   "metadata": {},
   "source": [
    "# Fitting a matrix transformation"
   ]
  },
  {
   "cell_type": "markdown",
   "metadata": {},
   "source": [
    "For each point, we have (up to measurement error),\n",
    "\n",
    "$$\n",
    "\\begin{pmatrix}\n",
    "  x_1&x_2&1&0&0&0\\\\\n",
    "  0&0&0&x_1&x_2&1\n",
    "\\end{pmatrix}\\begin{pmatrix}\n",
    "  F_{11}\\\\\n",
    "  F_{12}\\\\\n",
    "  c_1\\\\\n",
    "  F_{21}\\\\\n",
    "  F_{22}\\\\\n",
    "  c_2\n",
    "\\end{pmatrix}=\\begin{pmatrix}\n",
    "  r_1\\\\\n",
    "  r_2\n",
    "\\end{pmatrix}\n",
    "$$\n",
    "\n",
    "vcat all the points gives the standard matrix form of least squares problem. The\n",
    "adapter between the two problems is implemented as `fit_F` in [`lsq.jl`](lsq.jl)"
   ]
  },
  {
   "cell_type": "markdown",
   "metadata": {},
   "source": [
    "1. See [$F_a$](#$F_a$) below\n",
    "\n",
    "2. See [$F_b$](#$F_b$) and the [difference](#Difference) below.\n"
   ]
  },
  {
   "cell_type": "code",
   "execution_count": 2,
   "metadata": {
    "collapsed": false
   },
   "outputs": [
    {
     "data": {
      "text/plain": [
       "fit_F (generic function with 1 method)"
      ]
     },
     "execution_count": 2,
     "metadata": {},
     "output_type": "execute_result"
    }
   ],
   "source": [
    "include(\"lsq.jl\")"
   ]
  },
  {
   "cell_type": "code",
   "execution_count": 1,
   "metadata": {
    "collapsed": false
   },
   "outputs": [],
   "source": [
    "data = readdlm(\"beads.txt\", ' ');\n",
    "x = sub(data, (:, 1:2));\n",
    "r = sub(data, (:, 3:4));"
   ]
  },
  {
   "cell_type": "markdown",
   "metadata": {},
   "source": [
    "#### $F_a$"
   ]
  },
  {
   "cell_type": "code",
   "execution_count": 4,
   "metadata": {
    "collapsed": false
   },
   "outputs": [
    {
     "data": {
      "text/plain": [
       "(\n",
       "2x2 Array{Float64,2}:\n",
       "  1.47806   0.979544\n",
       " -0.950321  1.9868  ,\n",
       "\n",
       "[0.010102783872577811,-0.04972384480214973])"
      ]
     },
     "execution_count": 4,
     "metadata": {},
     "output_type": "execute_result"
    }
   ],
   "source": [
    "F_a, c_a = fit_F(x, r)"
   ]
  },
  {
   "cell_type": "markdown",
   "metadata": {},
   "source": [
    "#### $F_b$"
   ]
  },
  {
   "cell_type": "code",
   "execution_count": 5,
   "metadata": {
    "collapsed": false
   },
   "outputs": [
    {
     "data": {
      "text/plain": [
       "(\n",
       "2x2 Array{Float64,2}:\n",
       " 0.502728  -0.249489\n",
       " 0.239929   0.376422,\n",
       "\n",
       "[-0.0051828939740244055,0.027037170518102102])"
      ]
     },
     "execution_count": 5,
     "metadata": {},
     "output_type": "execute_result"
    }
   ],
   "source": [
    "F_b, c_b = fit_F(r, x)"
   ]
  },
  {
   "cell_type": "markdown",
   "metadata": {},
   "source": [
    "#### Difference"
   ]
  },
  {
   "cell_type": "code",
   "execution_count": 11,
   "metadata": {
    "collapsed": false
   },
   "outputs": [
    {
     "data": {
      "text/plain": [
       "2x2 Array{Float64,2}:\n",
       " -0.0330822  -0.0220283\n",
       "  0.012871   -0.0313974"
      ]
     },
     "execution_count": 11,
     "metadata": {},
     "output_type": "execute_result"
    }
   ],
   "source": [
    "F_a - inv(F_b)"
   ]
  }
 ],
 "metadata": {
  "kernelspec": {
   "display_name": "Julia 0.5.0-dev",
   "language": "julia",
   "name": "julia-0.5"
  },
  "language_info": {
   "file_extension": ".jl",
   "mimetype": "application/julia",
   "name": "julia",
   "version": "0.5.0"
  }
 },
 "nbformat": 4,
 "nbformat_minor": 0
}
