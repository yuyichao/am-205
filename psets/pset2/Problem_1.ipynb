{
 "cells": [
  {
   "cell_type": "markdown",
   "metadata": {},
   "source": [
    "1. Let $b=[x, y]$. From $\\big|\\big|b\\big|\\big|_2=1$,\n",
    "\n",
    "    $$x^2 + y^2 = 1$$\n",
    "\n",
    "    From $\\big|\\big|Ab\\big|\\big|_2=1$,\n",
    "\n",
    "    $$(3x-y)^2 + x^2 = 1$$\n",
    "\n",
    "    $$(3x-2y)x=0$$\n",
    "\n",
    "    Therefore, the solutions are $x=0,\\ y=\\pm1$ or $x=\\pm\\dfrac{2}{\\sqrt{13}},\\ y=\\pm\\dfrac{3}{\\sqrt{13}}$\n",
    "\n",
    "    See [below](#Plot-norm-2) for the plot.\n",
    "\n",
    "2. Let $c=[x, y]$. From $\\big|\\big|c\\big|\\big|_2=1$,\n",
    "\n",
    "    $$\\max(|x|, |y|) = 1$$\n",
    "\n",
    "    From $\\big|\\big|Ac\\big|\\big|_2=1$,\n",
    "\n",
    "    $$\\max(|3x-y| + |x|) = 1$$\n",
    "\n",
    "    At the crossing, if $1 = |x| \\geqslant |y|$, then $1 = |x| \\geqslant |3x - y|$, which is not possible.\n",
    "    If $1 = |y| \\geqslant |x|$, then $1 = |3x - y| \\geqslant |x|$, $x=0$ or $x=\\dfrac{2y}{3}$\n",
    "\n",
    "    Therefore, the solutions are $x=0,\\ y=\\pm1$ or $x=\\pm\\dfrac{2}{3},\\ y=\\pm1$\n",
    "\n",
    "    See [below](#Plot-norm-$\\infty$) for the plot.\n",
    "\n",
    "3. The code to find the roots and the results are [here](#Find-the-root)\n",
    "\n",
    "    The plot is [below the result](#Plot-norm-4)\n",
    "\n",
    "4. The solutions are all on the lines, $x=0$ and $x=\\dfrac{2y}{3}$ since $\\{\\big|r_x\\big|, \\big|r_y\\big|\\} = \\{\\big|(Ar)_x\\big|, \\big|(Ar)_y\\big|\\}$ on these two lines."
   ]
  },
  {
   "cell_type": "code",
   "execution_count": 1,
   "metadata": {
    "collapsed": true
   },
   "outputs": [],
   "source": [
    "using PyPlot\n",
    "using ForwardDiff"
   ]
  },
  {
   "cell_type": "code",
   "execution_count": 2,
   "metadata": {
    "collapsed": false
   },
   "outputs": [
    {
     "data": {
      "text/plain": [
       "gen_eqlen (generic function with 2 methods)"
      ]
     },
     "execution_count": 2,
     "metadata": {},
     "output_type": "execute_result"
    }
   ],
   "source": [
    "function gen_eqlen{T0}(mat::AbstractMatrix{T0}, normf, normv=1)\n",
    "    len = 10000\n",
    "    T = typeof(float(zero(T0)))\n",
    "    if size(mat) != (2, 2)\n",
    "        throw(ArgumentError(\"Transformation must be a 2x2 matrix\"))\n",
    "    end\n",
    "    θs = linspace(T(0), T(2π), len)\n",
    "    xs = Vector{T}(len)\n",
    "    ys = Vector{T}(len)\n",
    "    @inbounds for i in 1:len\n",
    "        # Find the right coordinate in each direction\n",
    "        # This rely on the norm function to scale linearly when both\n",
    "        # x and y are scaled by the same factor\n",
    "        θ = θs[i]\n",
    "        x0 = cos(θ)\n",
    "        y0 = sin(θ)\n",
    "        x1 = mat[1, 1] * x0 + mat[1, 2] * y0\n",
    "        y1 = mat[2, 1] * x0 + mat[2, 2] * y0\n",
    "        scale = normv / normf(x1, y1)\n",
    "        x = x0 * scale\n",
    "        y = y0 * scale\n",
    "        xs[i] = x\n",
    "        ys[i] = y\n",
    "    end\n",
    "    xs, ys\n",
    "end"
   ]
  },
  {
   "cell_type": "code",
   "execution_count": 3,
   "metadata": {
    "collapsed": false
   },
   "outputs": [
    {
     "data": {
      "text/plain": [
       "call (generic function with 2089 methods)"
      ]
     },
     "execution_count": 3,
     "metadata": {},
     "output_type": "execute_result"
    }
   ],
   "source": [
    "# We don't need these to avoid the anonymous function overhead anymore once\n",
    "# Jeff's JuliaLang/julia#13412 is merged ;-p\n",
    "\n",
    "immutable Norm{N}\n",
    "end\n",
    "# This is not the best algorithm to handle overflow/underflow but is good enough for\n",
    "# this problem (and I'm too lazy to find/implement the right function.....)\n",
    "call{N}(::Norm{N}, x, y) = (abs(x)^N + abs(y)^N)^(1 / N)\n",
    "\n",
    "immutable NormInf\n",
    "end\n",
    "# This is not the best algorithm to handle overflow/underflow but is good enough for\n",
    "# this problem (and I'm too lazy to find/implement the right function.....)\n",
    "call(::NormInf, x, y) = max(abs(x), abs(y))"
   ]
  },
  {
   "cell_type": "code",
   "execution_count": 4,
   "metadata": {
    "collapsed": false
   },
   "outputs": [],
   "source": [
    "const I2 = [1 0\n",
    "             0 1]\n",
    "const A = [3 -1\n",
    "           1 0]\n",
    "xI2, yI2 = gen_eqlen(I2, Norm{2}())\n",
    "xA2, yA2 = gen_eqlen(A, Norm{2}())\n",
    "\n",
    "xIinf, yIinf = gen_eqlen(I2, NormInf())\n",
    "xAinf, yAinf = gen_eqlen(A, NormInf());"
   ]
  },
  {
   "cell_type": "markdown",
   "metadata": {},
   "source": [
    "#### Plot norm-2"
   ]
  },
  {
   "cell_type": "code",
   "execution_count": 5,
   "metadata": {
    "collapsed": false,
    "scrolled": true
   },
   "outputs": [
    {
     "data": {
      "image/png": "[encoded data removed]",
      "text/plain": [
       "PyPlot.Figure(PyObject <matplotlib.figure.Figure object at 0x7fea74084be0>)"
      ]
     },
     "metadata": {},
     "output_type": "display_data"
    }
   ],
   "source": [
    "plot(xI2, yI2, label=\"\\$||b||_2=1\\$\")\n",
    "plot(xA2, yA2, label=\"\\$||Ab||_2=1\\$\")\n",
    "gca()[:set_aspect](\"equal\")\n",
    "plot(0, 1, \"ro\")\n",
    "plot(0, -1, \"ro\")\n",
    "plot(2 / sqrt(13), 3 / sqrt(13), \"ro\")\n",
    "plot(-2 / sqrt(13), -3 / sqrt(13), \"ro\")\n",
    "legend()\n",
    "grid()"
   ]
  },
  {
   "cell_type": "markdown",
   "metadata": {},
   "source": [
    "#### Plot norm-$\\infty$"
   ]
  },
  {
   "cell_type": "code",
   "execution_count": 6,
   "metadata": {
    "collapsed": false
   },
   "outputs": [
    {
     "data": {
      "image/png": "[encoded data removed]",
      "text/plain": [
       "PyPlot.Figure(PyObject <matplotlib.figure.Figure object at 0x7fea65ba6668>)"
      ]
     },
     "metadata": {},
     "output_type": "display_data"
    }
   ],
   "source": [
    "plot(xIinf, yIinf, label=\"\\$||b||_\\infty=1\\$\")\n",
    "plot(xAinf, yAinf, label=\"\\$||Ab||_\\infty=1\\$\")\n",
    "gca()[:set_aspect](\"equal\")\n",
    "plot(0, 1, \"ro\")\n",
    "plot(0, -1, \"ro\")\n",
    "plot(2 / 3, 1, \"ro\")\n",
    "plot(-2 / 3, -1, \"ro\")\n",
    "legend()\n",
    "grid()"
   ]
  },
  {
   "cell_type": "markdown",
   "metadata": {},
   "source": [
    "#### Find the root"
   ]
  },
  {
   "cell_type": "code",
   "execution_count": 7,
   "metadata": {
    "collapsed": false
   },
   "outputs": [
    {
     "data": {
      "text/plain": [
       "solve_multi (generic function with 2 methods)"
      ]
     },
     "execution_count": 7,
     "metadata": {},
     "output_type": "execute_result"
    }
   ],
   "source": [
    "function solve_multi(f, init, goal=1e-6)\n",
    "    x = init\n",
    "    while true\n",
    "        δ = f(x)\n",
    "        if norm(δ) < goal\n",
    "            return x\n",
    "        end\n",
    "        x = x - jacobian(f, x) \\ δ\n",
    "    end\n",
    "end"
   ]
  },
  {
   "cell_type": "code",
   "execution_count": 8,
   "metadata": {
    "collapsed": false
   },
   "outputs": [
    {
     "data": {
      "text/plain": [
       "f4 (generic function with 1 method)"
      ]
     },
     "execution_count": 8,
     "metadata": {},
     "output_type": "execute_result"
    }
   ],
   "source": [
    "f4(d) = [norm(d, 4) - 1, norm(A * d, 4) - 1]"
   ]
  },
  {
   "cell_type": "code",
   "execution_count": 9,
   "metadata": {
    "collapsed": false
   },
   "outputs": [
    {
     "data": {
      "text/plain": [
       "2-element Array{Float64,1}:\n",
       " 0.0\n",
       " 1.0"
      ]
     },
     "execution_count": 9,
     "metadata": {},
     "output_type": "execute_result"
    }
   ],
   "source": [
    "r1 = solve_multi(f4, [0., 1.])"
   ]
  },
  {
   "cell_type": "code",
   "execution_count": 10,
   "metadata": {
    "collapsed": false
   },
   "outputs": [
    {
     "data": {
      "text/plain": [
       "2-element Array{Float64,1}:\n",
       "  0.0\n",
       " -1.0"
      ]
     },
     "execution_count": 10,
     "metadata": {},
     "output_type": "execute_result"
    }
   ],
   "source": [
    "r2 = solve_multi(f4, [0., -1.])"
   ]
  },
  {
   "cell_type": "code",
   "execution_count": 11,
   "metadata": {
    "collapsed": false
   },
   "outputs": [
    {
     "data": {
      "text/plain": [
       "2-element Array{Float64,1}:\n",
       " 0.63729 \n",
       " 0.955935"
      ]
     },
     "execution_count": 11,
     "metadata": {},
     "output_type": "execute_result"
    }
   ],
   "source": [
    "r3 = solve_multi(f4, [2 / 3, 1.])"
   ]
  },
  {
   "cell_type": "code",
   "execution_count": 12,
   "metadata": {
    "collapsed": false
   },
   "outputs": [
    {
     "data": {
      "text/plain": [
       "2-element Array{Float64,1}:\n",
       " -0.63729 \n",
       " -0.955935"
      ]
     },
     "execution_count": 12,
     "metadata": {},
     "output_type": "execute_result"
    }
   ],
   "source": [
    "r4 = solve_multi(f4, [-2 / 3, -1.])"
   ]
  },
  {
   "cell_type": "code",
   "execution_count": 13,
   "metadata": {
    "collapsed": false
   },
   "outputs": [
    {
     "data": {
      "text/plain": [
       "([0.332312,0.332381,0.33245,0.332519,0.332588,0.332657,0.332725,0.332794,0.332863,0.332932  …  0.331695,0.331763,0.331832,0.3319,0.331969,0.332038,0.332106,0.332175,0.332244,0.332312],[0.0,0.000208862,0.000417811,0.000626847,0.000835969,0.00104518,0.00125448,0.00146386,0.00167334,0.0018829  …  -0.0018759,-0.0016678,-0.00145963,-0.00125137,-0.00104302,-0.000834587,-0.000626069,-0.000417465,-0.000208776,-8.13931e-17])"
      ]
     },
     "execution_count": 13,
     "metadata": {},
     "output_type": "execute_result"
    }
   ],
   "source": [
    "xI4, yI4 = gen_eqlen(I2, Norm{4}())\n",
    "xA4, yA4 = gen_eqlen(A, Norm{4}())"
   ]
  },
  {
   "cell_type": "markdown",
   "metadata": {},
   "source": [
    "#### Plot norm-4"
   ]
  },
  {
   "cell_type": "code",
   "execution_count": 14,
   "metadata": {
    "collapsed": false
   },
   "outputs": [
    {
     "data": {
      "image/png": "[encoded data removed]",
      "text/plain": [
       "PyPlot.Figure(PyObject <matplotlib.figure.Figure object at 0x7fea69460828>)"
      ]
     },
     "metadata": {},
     "output_type": "display_data"
    }
   ],
   "source": [
    "plot(xI4, yI4, label=\"\\$||b||_4=1\\$\")\n",
    "plot(xA4, yA4, label=\"\\$||Ab||_4=1\\$\")\n",
    "gca()[:set_aspect](\"equal\")\n",
    "plot(r1..., \"ro\")\n",
    "plot(r2..., \"ro\")\n",
    "plot(r3..., \"ro\")\n",
    "plot(r4..., \"ro\")\n",
    "legend()\n",
    "grid()"
   ]
  }
 ],
 "metadata": {
  "kernelspec": {
   "display_name": "Julia 0.5.0-dev",
   "language": "julia",
   "name": "julia-0.5"
  },
  "language_info": {
   "file_extension": ".jl",
   "mimetype": "application/julia",
   "name": "julia",
   "version": "0.5.0"
  }
 },
 "nbformat": 4,
 "nbformat_minor": 0
}
