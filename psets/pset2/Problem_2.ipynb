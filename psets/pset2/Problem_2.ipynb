{
 "cells": [
  {
   "cell_type": "markdown",
   "metadata": {},
   "source": [
    "1. See `fsolve!` in [`bin_num.jl`](./bin_num.jl)\n",
    "\n",
    "2. See `rsolve!` in [`bin_num.jl`](./bin_num.jl)\n",
    "\n",
    "3. See `Base.lu(::Matrix{BinNum})` in [`bin_num.jl`](./bin_num.jl)\n",
    "\n",
    "4. See the `solve_`"
   ]
  },
  {
   "cell_type": "code",
   "execution_count": 2,
   "metadata": {
    "collapsed": false
   },
   "outputs": [
    {
     "data": {
      "text/plain": [
       "solve_lu (generic function with 1 method)"
      ]
     },
     "execution_count": 2,
     "metadata": {},
     "output_type": "execute_result"
    }
   ],
   "source": [
    "include(\"bin_num.jl\")"
   ]
  },
  {
   "cell_type": "code",
   "execution_count": 3,
   "metadata": {
    "collapsed": false
   },
   "outputs": [],
   "source": [
    "const a_large = readdlm(\"q2_large/a.txt\", ' ', BinNum)\n",
    "const _b_large = readdlm(\"q2_large/b.txt\", ' ', BinNum)\n",
    "const a_small = readdlm(\"q2_small/a.txt\", ' ', BinNum)\n",
    "const _b_small = readdlm(\"q2_small/b.txt\", ' ', BinNum);"
   ]
  },
  {
   "cell_type": "code",
   "execution_count": 5,
   "metadata": {
    "collapsed": false
   },
   "outputs": [
    {
     "name": "stderr",
     "output_type": "stream",
     "text": [
      "WARNING: redefining constant b_large\n",
      "WARNING: redefining constant b_small\n"
     ]
    }
   ],
   "source": [
    "const b_large = reshape(_b_large, (length(_b_large),))\n",
    "const b_small = reshape(_b_small, (length(_b_small),));"
   ]
  },
  {
   "cell_type": "code",
   "execution_count": 12,
   "metadata": {
    "collapsed": false
   },
   "outputs": [
    {
     "data": {
      "text/plain": [
       "true"
      ]
     },
     "execution_count": 12,
     "metadata": {},
     "output_type": "execute_result"
    }
   ],
   "source": [
    "x_small = solve_lu(a_small, b_small)\n",
    "x_small == a_small \\ b_small"
   ]
  },
  {
   "cell_type": "code",
   "execution_count": 13,
   "metadata": {
    "collapsed": false
   },
   "outputs": [
    {
     "data": {
      "text/plain": [
       "true"
      ]
     },
     "execution_count": 13,
     "metadata": {},
     "output_type": "execute_result"
    }
   ],
   "source": [
    "x_large = solve_lu(a_large, b_large)\n",
    "x_large == a_large \\ b_large"
   ]
  }
 ],
 "metadata": {
  "kernelspec": {
   "display_name": "Julia 0.5.0-dev",
   "language": "julia",
   "name": "julia-0.5"
  },
  "language_info": {
   "file_extension": ".jl",
   "mimetype": "application/julia",
   "name": "julia",
   "version": "0.5.0"
  }
 },
 "nbformat": 4,
 "nbformat_minor": 0
}
