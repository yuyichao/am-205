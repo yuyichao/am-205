{
 "cells": [
  {
   "cell_type": "markdown",
   "metadata": {},
   "source": [
    "The function is in [`givens.jl`](givens.jl). The algorithm is slightly tweaked such\n",
    "that all the inner loops are along the stride-1 direction."
   ]
  },
  {
   "cell_type": "code",
   "execution_count": 1,
   "metadata": {
    "collapsed": false
   },
   "outputs": [
    {
     "data": {
      "text/plain": [
       "givens! (generic function with 1 method)"
      ]
     },
     "execution_count": 1,
     "metadata": {},
     "output_type": "execute_result"
    }
   ],
   "source": [
    "include(\"givens.jl\")"
   ]
  },
  {
   "cell_type": "code",
   "execution_count": 2,
   "metadata": {
    "collapsed": false
   },
   "outputs": [
    {
     "data": {
      "text/plain": [
       "test_error (generic function with 1 method)"
      ]
     },
     "execution_count": 2,
     "metadata": {},
     "output_type": "execute_result"
    }
   ],
   "source": [
    "function test_error(A)\n",
    "    Q, R = givens!(copy(A))\n",
    "    sqrt(sum((Q * R - A).^2))\n",
    "end"
   ]
  },
  {
   "cell_type": "code",
   "execution_count": 3,
   "metadata": {
    "collapsed": false
   },
   "outputs": [
    {
     "name": "stdout",
     "output_type": "stream",
     "text": [
      "2.3899730494949672e-15\n",
      "1.5351932781602026e-15\n",
      "1.3372186548917996e-15\n",
      "2.1573886259766126e-15\n",
      "2.7876888865309936e-15\n",
      "2.7231163996221504e-15\n",
      "2.425043566837952e-15\n",
      "2.434731211515286e-15\n",
      "2.853484605969943e-15\n",
      "2.2643504411465586e-15\n"
     ]
    }
   ],
   "source": [
    "for i in 1:10\n",
    "    println(test_error(rand(11, 7)))\n",
    "end"
   ]
  }
 ],
 "metadata": {
  "kernelspec": {
   "display_name": "Julia 0.5.0-dev",
   "language": "julia",
   "name": "julia-0.5"
  },
  "language_info": {
   "file_extension": ".jl",
   "mimetype": "application/julia",
   "name": "julia",
   "version": "0.5.0"
  }
 },
 "nbformat": 4,
 "nbformat_minor": 0
}
