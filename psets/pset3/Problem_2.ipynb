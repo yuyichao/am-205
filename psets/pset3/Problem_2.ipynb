{
 "cells": [
  {
   "cell_type": "markdown",
   "metadata": {},
   "source": [
    "1. The roots of $P_3(x) = \\dfrac12x(5x^2-3)$ are $x=0,\\pm\\sqrt{\\dfrac{3}{5}}$. The\n",
    "    base for each points are\n",
    "\n",
    "    $$\n",
    "    p_-(x) = \\dfrac{5x^2}{6}-\\sqrt{\\frac35}\\dfrac{5x}{6}\\\\\n",
    "    p_+(x) = \\dfrac{5x^2}{6}+\\sqrt{\\frac35}\\dfrac{5x}{6}\\\\\n",
    "    p_0(x) = 1-\\frac{5x^2}{3}\n",
    "    $$\n",
    "\n",
    "    Coefficients,\n",
    "    $$\n",
    "    w_\\pm = \\dfrac{5}{9}\\\\\n",
    "    w_0 = \\dfrac{8}{9}\n",
    "    $$\n",
    "\n",
    "    For polynomials of order lower than $3$, the interpolation is exact and therefore\n",
    "    the integral is exact too. For odd orders, we can also easily see that both the\n",
    "    exact result and the quadrature rule give $0$ from the symmetry of the problem.\n",
    "    The only order left is $k=4$,\n",
    "\n",
    "    $$\n",
    "    I=\\frac{2}{5}\\\\\n",
    "    Q=2 \\cdot \\sqrt{\\dfrac{3}{5}}^4 \\cdot \\dfrac{5}{9}=\\dfrac{2}{5}=I\n",
    "    $$\n",
    "\n",
    "2. The function is `adaptive_g3` in [`integrate.jl`](integrate.jl) which use\n",
    "    `integrate_g3` in the same file for each single step and returns an\n",
    "    `AdaptiveResult` that include the integration result as well as the error\n",
    "    and the number of interval used.\n",
    "\n",
    "    The integration on the polynomials can be found [below](#Polynomial-integral)\n",
    "\n",
    "3. The result of the integration for the functions given using the routine above\n",
    "    can be found [below](#Complex-functions)\n",
    "\n",
    "4. The result for the third function is clearly off, the reason is that the function\n",
    "    has a few $0$ at unfortunate points that fools the solver about the accuracy of\n",
    "    the current result.\n",
    "\n",
    "    One easy way to get rid of this problem is to devide the inteval randomly (and\n",
    "    hope that none of them has a unfortunate zero...). See implementation in\n",
    "    `adaptive_g3_rand` and the result [below](#Randomized)"
   ]
  },
  {
   "cell_type": "code",
   "execution_count": 1,
   "metadata": {
    "collapsed": false
   },
   "outputs": [],
   "source": [
    "include(\"integrate.jl\")\n",
    "import Integrate"
   ]
  },
  {
   "cell_type": "code",
   "execution_count": 2,
   "metadata": {
    "collapsed": false
   },
   "outputs": [
    {
     "data": {
      "text/plain": [
       "call (generic function with 1230 methods)"
      ]
     },
     "execution_count": 2,
     "metadata": {},
     "output_type": "execute_result"
    }
   ],
   "source": [
    "immutable F2m{N}\n",
    "end\n",
    "call{N}(::F2m{N}, x) = x.^N - x.^2 + 1"
   ]
  },
  {
   "cell_type": "markdown",
   "metadata": {},
   "source": [
    "#### Polynomial integral"
   ]
  },
  {
   "cell_type": "code",
   "execution_count": 3,
   "metadata": {
    "collapsed": false
   },
   "outputs": [
    {
     "name": "stdout",
     "output_type": "stream",
     "text": [
      "4: Value: 1.5235026; Error: 0 ; Interval count: 2\n",
      "5: Value: 1.1390381; Error: 0 ; Interval count: 2\n",
      "6: Value: 1.4379679; Error: 6.7e-08; Interval count: 16\n",
      "7: Value: 1.1635558; Error: 2.1e-07; Interval count: 16\n",
      "8: Value: 1.3954955; Error: 8.4e-07; Interval count: 14\n"
     ]
    }
   ],
   "source": [
    "for m in 4:8\n",
    "    println(\"$m: \", Integrate.adaptive_g3(F2m{m}(), -1.0, 3/4))\n",
    "end"
   ]
  },
  {
   "cell_type": "code",
   "execution_count": 4,
   "metadata": {
    "collapsed": false
   },
   "outputs": [
    {
     "data": {
      "text/plain": [
       "call (generic function with 1236 methods)"
      ]
     },
     "execution_count": 4,
     "metadata": {},
     "output_type": "execute_result"
    }
   ],
   "source": [
    "immutable F2_1\n",
    "end\n",
    "call(::F2_1, x) = abs(x)\n",
    "\n",
    "immutable F2_2\n",
    "end\n",
    "function call(::F2_2, x)\n",
    "    x2 = x^2\n",
    "    (((500x2 - 700) * x2 + 245) * x2 - 3) * sinpi(2x)^2\n",
    "end\n",
    "\n",
    "immutable F2_3\n",
    "end\n",
    "function call(::F2_3, x)\n",
    "    if x == 0\n",
    "        return float(zero(x))\n",
    "    end\n",
    "    x^(3 / 4) * sin(1 / x)\n",
    "end"
   ]
  },
  {
   "cell_type": "markdown",
   "metadata": {},
   "source": [
    "#### Complex functions"
   ]
  },
  {
   "cell_type": "code",
   "execution_count": 5,
   "metadata": {
    "collapsed": false
   },
   "outputs": [
    {
     "name": "stdout",
     "output_type": "stream",
     "text": [
      "1: Value: 1 ; Error: 0 ; Interval count: 4\n",
      "2: Value: 2.5; Error: 7.2e-11; Interval count: 32\n",
      "3: Value: 1.0436948e-16; Error: 3.8e-16; Interval count: 2\n",
      "4: Value: 0.40702696; Error: 2.1e-07; Interval count: 388652\n"
     ]
    }
   ],
   "source": [
    "for (i, (F, a, b)) in enumerate(((F2_1(), -1., 1.),\n",
    "                               (F2_1(), -1., 2.),\n",
    "                               (F2_2(), -1., 1.),\n",
    "                               (F2_3(), 0., 1.)))\n",
    "    println(\"$i: \", Integrate.adaptive_g3(F, a, b))\n",
    "end"
   ]
  },
  {
   "cell_type": "markdown",
   "metadata": {},
   "source": [
    "#### Randomized"
   ]
  },
  {
   "cell_type": "code",
   "execution_count": 6,
   "metadata": {
    "collapsed": false
   },
   "outputs": [
    {
     "data": {
      "text/plain": [
       "Value: 7.3667261; Error: 2.7e-07; Interval count: 130"
      ]
     },
     "execution_count": 6,
     "metadata": {},
     "output_type": "execute_result"
    }
   ],
   "source": [
    "Integrate.adaptive_g3_rand(F2_2(), -1, 1)"
   ]
  }
 ],
 "metadata": {
  "kernelspec": {
   "display_name": "Julia 0.5.0-dev",
   "language": "julia",
   "name": "julia-0.5"
  },
  "language_info": {
   "file_extension": ".jl",
   "mimetype": "application/julia",
   "name": "julia",
   "version": "0.5.0"
  }
 },
 "nbformat": 4,
 "nbformat_minor": 0
}
