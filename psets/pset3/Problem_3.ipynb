{
 "cells": [
  {
   "cell_type": "markdown",
   "metadata": {},
   "source": [
    "1. Order of accuracy\n",
    "\n",
    "    $$\n",
    "    f(t_{k+1/2}, (y_k+y_{k+1})/2)=f(t_{k+1/2}, y_{k+1/2})+\\mathcal{O}(h^2)\\\\\n",
    "    =\\frac1h\\int_{t_k}^{t_{k+1}}f(t,y(t))\\mathbf{d}t+\\mathcal{O}(h^2)\n",
    "    $$\n",
    "\n",
    "    where the first equal is using the Taylor expansion of $f$ as a function of $y$\n",
    "    and the second equal is using the fact that the first order in $t$ integrate to\n",
    "    $0$.\n",
    "\n",
    "2. $f=\\lambda y$\n",
    "\n",
    "    $$\n",
    "    y_{k+1} = y_k + h\\lambda(y_k+y_{k+1})/2\\\\\n",
    "    y_{k+1} = \\frac{2 + h\\lambda}{2-h\\lambda}y_k\n",
    "    $$\n",
    "\n",
    "    In order for the method to be stabe we need $\\left|\\dfrac{2+h\\lambda}{2-h\\lambda}\\right|\\leqslant1$"
   ]
  }
 ],
 "metadata": {
  "kernelspec": {
   "display_name": "Julia 0.5.0-dev",
   "language": "julia",
   "name": "julia-0.5"
  },
  "language_info": {
   "file_extension": ".jl",
   "mimetype": "application/julia",
   "name": "julia",
   "version": "0.5.0"
  }
 },
 "nbformat": 4,
 "nbformat_minor": 0
}
