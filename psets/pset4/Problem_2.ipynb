{
 "cells": [
  {
   "cell_type": "markdown",
   "metadata": {},
   "source": [
    "1. The code to solve the problem is in [`map_marking.jl`](map_marking.jl) and\n",
    "    [`pierce_wave.jl`](pierce_wave.jl). See comments in these two files for\n",
    "    explaination of the implementation. A breif summary follows,\n",
    "\n",
    "    1. The code is split into preprocessing of the map and simulation of the wave.\n",
    "        The preprocessing is necessary for figuring out the region we are actually\n",
    "        interested in (e.g. we don't care about the region outside the building) and\n",
    "        to generate loading mask used in the actual simulation (see below).\n",
    "    2. Initial condition, drive and measurements are swappable.\n",
    "    3. Instead of using the simplified expression for each type of pixel (which will\n",
    "        require a branchy inner loop), we simply use the use the same expression\n",
    "        but use a mask to determine which one we actually use as the neighbor value.\n",
    "        This allows the inner loop to be vectorized and boost the performance by a\n",
    "        lot.\n",
    "\n",
    "    The marked map looks like the following.\n",
    "    \n",
    "    ![](pierce_mark_neighbers.png)\n",
    "\n",
    "    The simulation takes ~ $0.025s$ to run (although the encoding of the video takes FFMpeg ~$3min$....).\n",
    "\n",
    "2. 2D plots of the presures\n",
    "\n",
    "    * $t=0.015$\n",
    "\n",
    "        ![](pierce_015.png)\n",
    "\n",
    "    * $t=0.105$\n",
    "\n",
    "        ![](pierce_105.png)\n",
    "\n",
    "    * $t=0.505$\n",
    "\n",
    "        ![](pierce_505.png)\n",
    "\n",
    "    * $t=1.005$\n",
    "\n",
    "        ![](pierce_1005.png)\n",
    "\n",
    "3. See the `PointsCollector` for both this problem and the following problem\n",
    "\n",
    "    $(10, 167)$ first hear the sound at $0.2368s$.\n",
    "\n",
    "    $(35, 73)$ first hear the sound at $0.0739s$.\n",
    "\n",
    "    $(67, 115)$ first hear the sound at $0.115s$.\n",
    "\n",
    "4. Plat of pressures\n",
    "\n",
    "    ![](pierce_points.png)\n"
   ]
  }
 ],
 "metadata": {
  "kernelspec": {
   "display_name": "Julia 0.5.0-dev",
   "language": "julia",
   "name": "julia-0.5"
  },
  "language_info": {
   "file_extension": ".jl",
   "mimetype": "application/julia",
   "name": "julia",
   "version": "0.5.0"
  }
 },
 "nbformat": 4,
 "nbformat_minor": 0
}
