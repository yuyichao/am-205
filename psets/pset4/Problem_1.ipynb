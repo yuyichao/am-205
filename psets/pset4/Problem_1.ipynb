{
 "cells": [
  {
   "cell_type": "markdown",
   "metadata": {},
   "source": [
    "1. Truncation error,\n",
    "\n",
    "    Using the Taylor expension of `U` in each direction up to the forth order (Odd order terms always cancels so the leading order in the numerator is $4$)\n",
    "\n",
    "    $$\n",
    "    T=\\frac{U_{tttt}\\Delta t^4}{12\\Delta t^2}-c^2\\frac{U_{xxxx}\\Delta x^4}{12\\Delta x^2}+\\mathcal{O(\\Delta t^4+\\Delta x^4)}\\\\\n",
    "    =\\frac{U_{tttt}\\Delta t^2-c^2U_{xxxx}\\Delta x^2}{12}+\\mathcal{O(\\Delta t^4+\\Delta x^4)}\n",
    "    $$\n",
    "\n",
    "2. Stability\n",
    "\n",
    "    Dividing every terms by $U_j^n$\n",
    "\n",
    "    $$\n",
    "    \\lambda-2+\\lambda^{-1}=\\left(\\frac{c\\Delta t}{\\Delta x}\\right)^2\\left(e^{ik\\Delta x}-2+e^{-ik\\Delta x}\\right)\\equiv-\\alpha\\leqslant0\\\\\n",
    "    \\lambda^2-(2-\\alpha)\\lambda+1=0\\\\\n",
    "    \\lambda_\\pm=\\frac{2-\\alpha\\pm i\\sqrt{4 - (2-\\alpha)^2}}{2}\n",
    "    $$\n",
    "    For small enough $\\Delta t$ such that $\\alpha < 1$\n",
    "    $$\n",
    "    |\\lambda_\\pm|^2=\\frac{(2-\\alpha)^2+4 - (2-\\alpha)^2}{4}=1\n",
    "    $$\n"
   ]
  }
 ],
 "metadata": {
  "kernelspec": {
   "display_name": "Julia 0.5.0-dev",
   "language": "julia",
   "name": "julia-0.5"
  },
  "language_info": {
   "file_extension": ".jl",
   "mimetype": "application/julia",
   "name": "julia",
   "version": "0.5.0"
  }
 },
 "nbformat": 4,
 "nbformat_minor": 0
}
