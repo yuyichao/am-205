{
 "cells": [
  {
   "cell_type": "markdown",
   "metadata": {},
   "source": [
    "* $\\kappa(B+C) < \\kappa(B) + \\kappa(C)$\n",
    "\n",
    "$$B=\\begin{pmatrix}\n",
    "1&0\\\\\n",
    "0&100\n",
    "\\end{pmatrix}$$\n",
    "\n",
    "$$C=\\begin{pmatrix}\n",
    "100&0\\\\\n",
    "0&1\n",
    "\\end{pmatrix}$$"
   ]
  },
  {
   "cell_type": "markdown",
   "metadata": {},
   "source": [
    "* $\\kappa(B+C) > \\kappa(B) + \\kappa(C)$\n",
    "\n",
    "$$B=\\begin{pmatrix}\n",
    "1001&0\\\\\n",
    "0&1010\n",
    "\\end{pmatrix}$$\n",
    "\n",
    "$$C=\\begin{pmatrix}\n",
    "-1000&0\\\\\n",
    "0&-1000\n",
    "\\end{pmatrix}$$\n",
    "\n",
    "(Or basically anything that is the reverse of the first problem...)"
   ]
  },
  {
   "cell_type": "markdown",
   "metadata": {},
   "source": [
    "$\\kappa(2A) = \\kappa(A)$ (since the eigenvalues scales linearly with the matrix and the ratio between them doesn't change)\n",
    "\n",
    "$\\kappa(A^2) = \\kappa(A)^2$ (since the eigenvalues squares when the matrix is squared and the ratio between them too)"
   ]
  }
 ],
 "metadata": {
  "kernelspec": {
   "display_name": "Julia 0.5.0-dev",
   "language": "julia",
   "name": "julia-0.5"
  },
  "language_info": {
   "file_extension": ".jl",
   "mimetype": "application/julia",
   "name": "julia",
   "version": "0.5.0"
  }
 },
 "nbformat": 4,
 "nbformat_minor": 0
}
