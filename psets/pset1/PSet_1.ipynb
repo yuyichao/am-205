{
 "cells": [
  {
   "cell_type": "markdown",
   "metadata": {},
   "source": [
    "## General note\n",
    "\n",
    "The code is written in Julia using the current master `0.5.0-dev+337`. It is almost\n",
    "certainly not compatible with version `0.3` but shouldn't have problem running on\n",
    "the `release-0.4` branch or any of the rc's."
   ]
  },
  {
   "cell_type": "markdown",
   "metadata": {},
   "source": [
    "The code that is commonly used for more than one problems in this problem set is at [common.jl](common.jl)\n",
    "\n",
    "The following are links to each problems. For most problems, there are links at the top of the page to the\n",
    "\n",
    "* [Problem 1](Problem_1.ipynb)"
   ]
  }
 ],
 "metadata": {
  "kernelspec": {
   "display_name": "Julia 0.5.0-dev",
   "language": "julia",
   "name": "julia-0.5"
  },
  "language_info": {
   "file_extension": ".jl",
   "mimetype": "application/julia",
   "name": "julia",
   "version": "0.5.0"
  }
 },
 "nbformat": 4,
 "nbformat_minor": 0
}
